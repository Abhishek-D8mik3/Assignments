{
  "nbformat": 4,
  "nbformat_minor": 0,
  "metadata": {
    "colab": {
      "provenance": []
    },
    "kernelspec": {
      "name": "python3",
      "display_name": "Python 3"
    },
    "language_info": {
      "name": "python"
    }
  },
  "cells": [
    {
      "cell_type": "code",
      "execution_count": 1,
      "metadata": {
        "id": "2a_HnZHZ8uWb"
      },
      "outputs": [],
      "source": [
        "#Q!  What are the five key concepts of Object-Oriented Programming (OOP)?\n",
        "\n",
        "#The five key concepts of Object-Oriented Programming (OOP) are:\n",
        "\n",
        "#Class: A blueprint for creating objects, defining attributes and behaviors.\n",
        "#Object: An instance of a class with actual data.\n",
        "#Encapsulation: Hiding internal details and only exposing necessary parts to the outside.\n",
        "#Inheritance: Allowing a class to inherit features (attributes and methods) from another class.\n",
        "#Polymorphism: The ability for different classes to be treated as instances of the same class through shared methods."
      ]
    },
    {
      "cell_type": "code",
      "source": [
        "#Q2  Write a Python class for a `Car` with attributes for `make`, `model`, and `year`. Include a method to display the car's information.\n",
        "\n",
        "class Car:\n",
        "    def __init__(self, make, model, year):\n",
        "        self.make = make\n",
        "        self.model = model\n",
        "        self.year = year\n",
        "\n",
        "    def display_info(self):\n",
        "        print(f\"Car: {self.year} {self.make} {self.model}\")\n",
        "\n",
        "# Example usage\n",
        "car1 = Car(\"Toyota\", \"Camry\", 2020)\n",
        "car1.display_info()\n",
        "\n"
      ],
      "metadata": {
        "id": "dI8pTGFN8wGl",
        "colab": {
          "base_uri": "https://localhost:8080/"
        },
        "outputId": "c1a60599-f165-4e2c-c15f-baa4e909e3ac"
      },
      "execution_count": 2,
      "outputs": [
        {
          "output_type": "stream",
          "name": "stdout",
          "text": [
            "Car: 2020 Toyota Camry\n"
          ]
        }
      ]
    },
    {
      "cell_type": "code",
      "source": [
        "#Q3 3. Explain the difference between instance methods and class methods. Provide an example of each.\n",
        "\n",
        "#Instance Methods:\n",
        "\n",
        "   #Operate on an instance of the class (an object).\n",
        "   #Use self as the first parameter, which refers to the instance.\n",
        "   #Can access and modify instance attributes.\n",
        "#Class Methods:\n",
        "\n",
        "   #Operate on the class itself, not on specific instances.\n",
        "   #Use @classmethod decorator and cls as the first parameter, referring to the class.\n",
        "   #Can access or modify class-level attributes, shared by all instances.\n",
        "\n",
        "class Car:\n",
        "    # Class attribute\n",
        "    wheels = 4\n",
        "\n",
        "    def __init__(self, make, model):\n",
        "        self.make = make\n",
        "        self.model = model\n",
        "\n",
        "    # Instance method\n",
        "    def display_info(self):\n",
        "        print(f\"Car: {self.make} {self.model}\")\n",
        "\n",
        "    # Class method\n",
        "    @classmethod\n",
        "    def get_wheels(cls):\n",
        "        return cls.wheels\n",
        "\n",
        "# Example usage\n",
        "car1 = Car(\"Toyota\", \"Camry\")\n",
        "car1.display_info()\n",
        "print(Car.get_wheels())\n"
      ],
      "metadata": {
        "id": "1kVrWpEK_SXD",
        "colab": {
          "base_uri": "https://localhost:8080/"
        },
        "outputId": "279b7fbc-2c8f-4d5f-ac70-d64b9a58e0e5"
      },
      "execution_count": 4,
      "outputs": [
        {
          "output_type": "stream",
          "name": "stdout",
          "text": [
            "Car: Toyota Camry\n",
            "4\n"
          ]
        }
      ]
    },
    {
      "cell_type": "code",
      "source": [
        "#Q4  How does Python implement method overloading? Give an example.\n",
        "\n",
        "#Python doesn’t support traditional method overloading like some other languages (such as Java), where you can define multiple methods with the same name but different parameters.\n",
        "#Instead, Python uses default parameters and variable arguments to achieve similar functionality.\n",
        "\n",
        "class MathOperations:\n",
        "    def add(self, a, b=0, c=0):\n",
        "        return a + b + c\n",
        "\n",
        "# Example usage\n",
        "math_op = MathOperations()\n",
        "print(math_op.add(5))\n",
        "print(math_op.add(5, 10))\n",
        "print(math_op.add(5, 10, 15))\n"
      ],
      "metadata": {
        "colab": {
          "base_uri": "https://localhost:8080/"
        },
        "id": "440J9yBXv6lF",
        "outputId": "7f7f0857-a52b-49d1-cb37-3ee42599733a"
      },
      "execution_count": 5,
      "outputs": [
        {
          "output_type": "stream",
          "name": "stdout",
          "text": [
            "5\n",
            "15\n",
            "30\n"
          ]
        }
      ]
    },
    {
      "cell_type": "code",
      "source": [
        "#Q5  What are the three types of access modifiers in Python? How are they denoted?\n",
        "\n",
        "#In Python, access modifiers are used to control the visibility of class members (attributes and methods). Python has three main types:\n",
        "\n",
        "#Public: Accessible from anywhere, both inside and outside the class.\n",
        "\n",
        "#Denoted by no underscore: variable or method.\n",
        "#Protected: Intended for use within the class and its subclasses (not strictly enforced).\n",
        "\n",
        "#Denoted by a single underscore _variable or _method.\n",
        "#Private: Intended for use only within the class itself. Python name-mangles private members to prevent accidental access from outside.\n",
        "\n",
        "#Denoted by a double underscore __variable or __method.\n",
        "\n",
        "class Example:\n",
        "    def __init__(self):\n",
        "        self.public_var = \"I am Public\"\n",
        "        self._protected_var = \"I am Protected\"\n",
        "        self.__private_var = \"I am Private\"\n",
        "\n",
        "    def display_vars(self):\n",
        "        print(self.public_var)\n",
        "        print(self._protected_var)\n",
        "        print(self.__private_var)\n",
        "\n",
        "# Example usage\n",
        "obj = Example()\n",
        "print(obj.public_var)      # Accessible\n",
        "print(obj._protected_var)  # Accessible (but conventionally treated as protected)\n",
        "# print(obj.__private_var) # Not accessible, would raise an AttributeError\n"
      ],
      "metadata": {
        "colab": {
          "base_uri": "https://localhost:8080/"
        },
        "id": "iNfyxUoswanS",
        "outputId": "5d19e97e-4ee4-4430-ce10-c4307df65fb1"
      },
      "execution_count": 6,
      "outputs": [
        {
          "output_type": "stream",
          "name": "stdout",
          "text": [
            "I am Public\n",
            "I am Protected\n"
          ]
        }
      ]
    },
    {
      "cell_type": "code",
      "source": [
        "#Q6  Describe the five types of inheritance in Python. Provide a simple example of multiple inheritance.\n",
        "\n",
        "#In Python, there are five types of inheritance:\n",
        "\n",
        "#Single Inheritance: A single subclass inherits from a single superclass.\n",
        "#Multiple Inheritance: A subclass inherits from more than one superclass.\n",
        "#Multilevel Inheritance: A subclass inherits from a superclass, and that superclass also inherits from another superclass.\n",
        "#Hierarchical Inheritance: Multiple subclasses inherit from a single superclass.\n",
        "#Hybrid Inheritance: A combination of multiple inheritance types.\n",
        "\n",
        "class Parent1:\n",
        "    def display_parent1(self):\n",
        "        print(\"This is Parent 1\")\n",
        "\n",
        "class Parent2:\n",
        "    def display_parent2(self):\n",
        "        print(\"This is Parent 2\")\n",
        "\n",
        "class Child(Parent1, Parent2):\n",
        "    def display_child(self):\n",
        "        print(\"This is the Child\")\n",
        "\n",
        "# Example usage\n",
        "child = Child()\n",
        "child.display_parent1()\n",
        "child.display_parent2()\n",
        "child.display_child()"
      ],
      "metadata": {
        "colab": {
          "base_uri": "https://localhost:8080/"
        },
        "id": "ApqdFwuHwxgE",
        "outputId": "5eca6e2f-0d46-4346-f374-c5327cbfe7d6"
      },
      "execution_count": 7,
      "outputs": [
        {
          "output_type": "stream",
          "name": "stdout",
          "text": [
            "This is Parent 1\n",
            "This is Parent 2\n",
            "This is the Child\n"
          ]
        }
      ]
    },
    {
      "cell_type": "code",
      "source": [
        "#Q7   What is the Method Resolution Order (MRO) in Python? How can you retrieve it programmatically?\n",
        "\n",
        "#The Method Resolution Order (MRO) in Python determines the order in which classes are searched when executing a method.\n",
        "#It’s especially useful in multiple inheritance scenarios to avoid conflicts and ensure predictable behavior.\n",
        "#Python uses the C3 linearization algorithm (also known as the C3 superclass linearization) to determine this order.\n",
        "\n",
        "class A: pass\n",
        "class B(A): pass\n",
        "class C(A): pass\n",
        "class D(B, C): pass\n",
        "\n",
        "# Retrieve the MRO\n",
        "print(D.mro())\n",
        "print(D.__mro__)"
      ],
      "metadata": {
        "colab": {
          "base_uri": "https://localhost:8080/"
        },
        "id": "4j-BmmfhxL_b",
        "outputId": "b366d22f-3ee1-4918-a8f7-8cef6b950b6e"
      },
      "execution_count": 8,
      "outputs": [
        {
          "output_type": "stream",
          "name": "stdout",
          "text": [
            "[<class '__main__.D'>, <class '__main__.B'>, <class '__main__.C'>, <class '__main__.A'>, <class 'object'>]\n",
            "(<class '__main__.D'>, <class '__main__.B'>, <class '__main__.C'>, <class '__main__.A'>, <class 'object'>)\n"
          ]
        }
      ]
    },
    {
      "cell_type": "code",
      "source": [
        "#Q8   Create an abstract base class `Shape` with an abstract method `area()`. Then create two subclasses `Circle` and `Rectangle` that implement the `area()` method.\n",
        "\n",
        "#To create an abstract base class in Python, we can use the ABC (Abstract Base Class) module.\n",
        "#Here’s how you can define the Shape class with an abstract area method, and then create Circle and Rectangle subclasses that implement it.\n",
        "\n",
        "from abc import ABC, abstractmethod\n",
        "import math\n",
        "\n",
        "class Shape(ABC):\n",
        "    @abstractmethod\n",
        "    def area(self):\n",
        "        pass\n",
        "\n",
        "class Circle(Shape):\n",
        "    def __init__(self, radius):\n",
        "        self.radius = radius\n",
        "\n",
        "    def area(self):\n",
        "        return math.pi * (self.radius ** 2)\n",
        "\n",
        "class Rectangle(Shape):\n",
        "    def __init__(self, width, height):\n",
        "        self.width = width\n",
        "        self.height = height\n",
        "\n",
        "    def area(self):\n",
        "        return self.width * self.height\n",
        "\n",
        "# Example usage\n",
        "circle = Circle(5)\n",
        "rectangle = Rectangle(4, 6)\n",
        "\n",
        "print(\"Circle area:\", circle.area())\n",
        "print(\"Rectangle area:\", rectangle.area())\n"
      ],
      "metadata": {
        "colab": {
          "base_uri": "https://localhost:8080/"
        },
        "id": "rmZpDgnVxgZI",
        "outputId": "e93e8a75-8c41-4005-adf0-6dd50d75ed4b"
      },
      "execution_count": 9,
      "outputs": [
        {
          "output_type": "stream",
          "name": "stdout",
          "text": [
            "Circle area: 78.53981633974483\n",
            "Rectangle area: 24\n"
          ]
        }
      ]
    },
    {
      "cell_type": "code",
      "source": [
        "#Q9  Demonstrate polymorphism by creating a function that can work with different shape objects to calculate and print their areas.\n",
        "\n",
        "#One can demonstrate polymorphism in Python by creating a function that accepts different shape objects and calls their area() methods.\n",
        "#Here’s how you can do it using the Shape, Circle, and Rectangle classes defined earlier:\n",
        "\n",
        "\n",
        "# Abstract base class\n",
        "class Shape(ABC):\n",
        "    @abstractmethod\n",
        "    def area(self):\n",
        "        pass\n",
        "\n",
        "# Circle subclass\n",
        "class Circle(Shape):\n",
        "    def __init__(self, radius):\n",
        "        self.radius = radius\n",
        "\n",
        "    def area(self):\n",
        "        return math.pi * (self.radius ** 2)\n",
        "\n",
        "# Rectangle subclass\n",
        "class Rectangle(Shape):\n",
        "    def __init__(self, width, height):\n",
        "        self.width = width\n",
        "        self.height = height\n",
        "\n",
        "    def area(self):\n",
        "        return self.width * self.height\n",
        "\n",
        "# Function to calculate area\n",
        "def print_area(shape):\n",
        "    print(\"Area:\", shape.area())\n",
        "\n",
        "# Example usage\n",
        "circle = Circle(5)\n",
        "rectangle = Rectangle(4, 6)\n",
        "\n",
        "print_area(circle)\n",
        "print_area(rectangle)\n"
      ],
      "metadata": {
        "colab": {
          "base_uri": "https://localhost:8080/"
        },
        "id": "gWqaEpNdxypT",
        "outputId": "5f659606-fc94-4fd4-896a-661c0ce6f96e"
      },
      "execution_count": 10,
      "outputs": [
        {
          "output_type": "stream",
          "name": "stdout",
          "text": [
            "Area: 78.53981633974483\n",
            "Area: 24\n"
          ]
        }
      ]
    },
    {
      "cell_type": "code",
      "source": [
        "#Q10   Implement encapsulation in a `BankAccount` class with private attributes for `balance` and `account_number`. Include methods for deposit, withdrawal, and balance inquiry.\n",
        "\n",
        "#Here's how you can implement encapsulation in a BankAccount class with private attributes for balance and account_number.\n",
        "#The class will include methods for depositing money, withdrawing money, and checking the balance.\n",
        "\n",
        "class BankAccount:\n",
        "    def __init__(self, account_number):\n",
        "        self.__account_number = account_number\n",
        "        self.__balance = 0\n",
        "\n",
        "    def deposit(self, amount):\n",
        "        if amount > 0:\n",
        "            self.__balance += amount\n",
        "            print(f\"Deposited: ${amount}\")\n",
        "        else:\n",
        "            print(\"Deposit amount must be positive.\")\n",
        "\n",
        "    def withdraw(self, amount):\n",
        "        if 0 < amount <= self.__balance:\n",
        "            self.__balance -= amount\n",
        "            print(f\"Withdrew: ${amount}\")\n",
        "        elif amount > self.__balance:\n",
        "            print(\"Insufficient funds.\")\n",
        "        else:\n",
        "            print(\"Withdrawal amount must be positive.\")\n",
        "\n",
        "    def get_balance(self):\n",
        "        return self.__balance\n",
        "\n",
        "    def account_info(self):\n",
        "        return f\"Account Number: {self.__account_number}, Balance: ${self.__balance}\"\n",
        "\n",
        "# Example usage\n",
        "account = BankAccount(\"123456789\")\n",
        "account.deposit(500)\n",
        "account.withdraw(200)\n",
        "print(\"Current Balance:\", account.get_balance())\n",
        "print(account.account_info())\n"
      ],
      "metadata": {
        "colab": {
          "base_uri": "https://localhost:8080/"
        },
        "id": "aYKrhn06yLfN",
        "outputId": "bc043be5-2c8f-4cf5-b00d-bb1c5b7c7194"
      },
      "execution_count": 11,
      "outputs": [
        {
          "output_type": "stream",
          "name": "stdout",
          "text": [
            "Deposited: $500\n",
            "Withdrew: $200\n",
            "Current Balance: 300\n",
            "Account Number: 123456789, Balance: $300\n"
          ]
        }
      ]
    },
    {
      "cell_type": "code",
      "source": [
        "#Q11 1. Write a class that overrides the `__str__` and `__add__` magic methods. What will these methods allow you to do?\n",
        "\n",
        "#By overriding the __str__ and __add__ magic methods in a class, you can customize how instances of the class are represented as strings and how they can be added together.\n",
        "\n",
        "class Vector:\n",
        "    def __init__(self, x, y):\n",
        "        self.x = x\n",
        "        self.y = y\n",
        "\n",
        "    def __str__(self):\n",
        "        return f\"Vector({self.x}, {self.y})\"  # Custom string representation\n",
        "\n",
        "    def __add__(self, other):\n",
        "        if isinstance(other, Vector):\n",
        "            return Vector(self.x + other.x, self.y + other.y)  # Adding two vectors\n",
        "        return NotImplemented\n",
        "\n",
        "# Example usage\n",
        "vector1 = Vector(1, 2)\n",
        "vector2 = Vector(3, 4)\n",
        "\n",
        "# Using the __str__ method\n",
        "print(vector1)\n",
        "\n",
        "# Using the __add__ method\n",
        "result_vector = vector1 + vector2\n",
        "print(result_vector)\n",
        "\n",
        "\n",
        "\n",
        "#What These Methods Allow You to Do:\n",
        "#__str__ Method:\n",
        "\n",
        "#This method is called when you use the print() function or str() on an instance of the class.\n",
        "#It allows you to define a human-readable string representation of the object, making it easier to understand when printed.\n",
        "#__add__ Method:\n",
        "\n",
        "#This method allows you to define custom behavior for the + operator.\n",
        "#You can specify how two instances of your class should be combined.\n",
        "#In the example above, it allows two Vector instances to be added together by returning a new Vector that represents the sum of the two vectors.\n"
      ],
      "metadata": {
        "colab": {
          "base_uri": "https://localhost:8080/"
        },
        "id": "XdYBmAjXyzG6",
        "outputId": "3788a595-7b7b-4f6d-c084-8cfadd3ce2db"
      },
      "execution_count": 12,
      "outputs": [
        {
          "output_type": "stream",
          "name": "stdout",
          "text": [
            "Vector(1, 2)\n",
            "Vector(4, 6)\n"
          ]
        }
      ]
    },
    {
      "cell_type": "code",
      "source": [
        "#Q12  Create a decorator that measures and prints the execution time of a function.\n",
        "\n",
        "#You can create a decorator in Python that measures the execution time of a function using the time module.\n",
        "\n",
        "import time\n",
        "\n",
        "def time_decorator(func):\n",
        "    def wrapper(*args, **kwargs):\n",
        "        start_time = time.time()  # Record the start time\n",
        "        result = func(*args, **kwargs)  # Call the original function\n",
        "        end_time = time.time()  # Record the end time\n",
        "        execution_time = end_time - start_time  # Calculate execution time\n",
        "        print(f\"Execution time: {execution_time:.4f} seconds\")\n",
        "        return result  # Return the result of the original function\n",
        "    return wrapper\n",
        "\n",
        "# Example usage\n",
        "@time_decorator\n",
        "def example_function(n):\n",
        "    total = 0\n",
        "    for i in range(n):\n",
        "        total += i\n",
        "    return total\n",
        "\n",
        "# Call the decorated function\n",
        "result = example_function(1000000)\n",
        "print(\"Result:\", result)"
      ],
      "metadata": {
        "colab": {
          "base_uri": "https://localhost:8080/"
        },
        "id": "iObCyYTCziMc",
        "outputId": "f5ba47cd-7fed-4591-aea6-c87f813697ae"
      },
      "execution_count": 13,
      "outputs": [
        {
          "output_type": "stream",
          "name": "stdout",
          "text": [
            "Execution time: 0.1752 seconds\n",
            "Result: 499999500000\n"
          ]
        }
      ]
    },
    {
      "cell_type": "code",
      "source": [
        "#Q13  . Explain the concept of the Diamond Problem in multiple inheritance. How does Python resolve it?\n",
        "\n",
        "#The Diamond Problem occurs in multiple inheritance when a class inherits from two or more classes that have a common base class.\n",
        "#This can create ambiguity in the method resolution order (MRO) because it’s unclear which path to take to reach the base class.\n",
        "\n",
        "class A:\n",
        "    def greet(self):\n",
        "        return \"Hello from A\"\n",
        "\n",
        "class B(A):\n",
        "    def greet(self):\n",
        "        return \"Hello from B\"\n",
        "\n",
        "class C(A):\n",
        "    def greet(self):\n",
        "        return \"Hello from C\"\n",
        "\n",
        "class D(B, C):\n",
        "    pass\n",
        "\n",
        "# Example usage\n",
        "d = D()\n",
        "print(d.greet())\n",
        "print(D.mro())\n"
      ],
      "metadata": {
        "colab": {
          "base_uri": "https://localhost:8080/"
        },
        "id": "-1pJ3aXvzwhv",
        "outputId": "dd0e9c00-d7f7-4913-ad41-d5352a8a27df"
      },
      "execution_count": 14,
      "outputs": [
        {
          "output_type": "stream",
          "name": "stdout",
          "text": [
            "Hello from B\n",
            "[<class '__main__.D'>, <class '__main__.B'>, <class '__main__.C'>, <class '__main__.A'>, <class 'object'>]\n"
          ]
        }
      ]
    },
    {
      "cell_type": "code",
      "source": [
        "#Q14 . Write a class method that keeps track of the number of instances created from a class.\n",
        "\n",
        "class InstanceCounter:\n",
        "    instance_count = 0  # Class attribute to keep track of instances\n",
        "\n",
        "    def __init__(self):\n",
        "        InstanceCounter.instance_count += 1\n",
        "\n",
        "    @classmethod\n",
        "    def get_instance_count(cls):\n",
        "        return cls.instance_count\n",
        "# Example usage\n",
        "obj1 = InstanceCounter()\n",
        "obj2 = InstanceCounter()\n",
        "obj3 = InstanceCounter()\n",
        "\n",
        "print(\"Number of instances created:\", InstanceCounter.get_instance_count())\n"
      ],
      "metadata": {
        "colab": {
          "base_uri": "https://localhost:8080/"
        },
        "id": "e2FfJkeU0S57",
        "outputId": "81630a0d-1693-4082-c8f9-033580753d10"
      },
      "execution_count": 15,
      "outputs": [
        {
          "output_type": "stream",
          "name": "stdout",
          "text": [
            "Number of instances created: 3\n"
          ]
        }
      ]
    },
    {
      "cell_type": "code",
      "source": [
        "#Q15  Implement a static method in a class that checks if a given year is a leap year.\n",
        "\n",
        "#One can implement a static method in a class to check if a given year is a leap year. A year is a leap year if:\n",
        "\n",
        "#It is divisible by 4.\n",
        "#However, if it is divisible by 100, it must also be divisible by 400 to be a leap year.\n",
        "\n",
        "class YearChecker:\n",
        "    @staticmethod\n",
        "    def is_leap_year(year):\n",
        "        if (year % 4 == 0 and year % 100 != 0) or (year % 400 == 0):\n",
        "            return True\n",
        "        return False\n",
        "\n",
        "# Example usage\n",
        "year = 2024\n",
        "if YearChecker.is_leap_year(year):\n",
        "    print(f\"{year} is a leap year.\")\n",
        "else:\n",
        "    print(f\"{year} is not a leap year.\")\n"
      ],
      "metadata": {
        "colab": {
          "base_uri": "https://localhost:8080/"
        },
        "id": "mXhasiQG0fzF",
        "outputId": "a4a9b5d7-bc83-44c5-b283-62d5050c1a2a"
      },
      "execution_count": 16,
      "outputs": [
        {
          "output_type": "stream",
          "name": "stdout",
          "text": [
            "2024 is a leap year.\n"
          ]
        }
      ]
    },
    {
      "cell_type": "code",
      "source": [],
      "metadata": {
        "id": "OTKULMFZ0u8o"
      },
      "execution_count": null,
      "outputs": []
    }
  ]
}