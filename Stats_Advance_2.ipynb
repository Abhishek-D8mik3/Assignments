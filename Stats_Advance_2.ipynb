{
  "nbformat": 4,
  "nbformat_minor": 0,
  "metadata": {
    "colab": {
      "provenance": []
    },
    "kernelspec": {
      "name": "python3",
      "display_name": "Python 3"
    },
    "language_info": {
      "name": "python"
    }
  },
  "cells": [
    {
      "cell_type": "code",
      "execution_count": 1,
      "metadata": {
        "colab": {
          "base_uri": "https://localhost:8080/"
        },
        "id": "_ZNdQO9mi_-2",
        "outputId": "ebfb963d-6729-47f3-f0c3-8f8932d07295"
      },
      "outputs": [
        {
          "output_type": "execute_result",
          "data": {
            "text/plain": [
              "(2.089171974522293, 0.24652429950266952)"
            ]
          },
          "metadata": {},
          "execution_count": 1
        }
      ],
      "source": [
        "#Question: You have two sets of data representing the incomes of two different professions\n",
        "#Profession A: [48, 52, 55, 60, 62 Profession B: [45, 50, 55, 52, 47]\n",
        "#Perform an F-test to determine if the variances of the two professions' incomes are equal. What are your conclusions based on the F-test?\n",
        "#Task: Use Python to calculate the F-statistic and p-value for the given data.\n",
        "#Objective: Gain experience in performing F-tests and interpreting the results in terms of variance comparison.\n",
        "\n",
        "import numpy as np\n",
        "from scipy.stats import f\n",
        "\n",
        "# Data for Profession A and Profession B\n",
        "profession_a = [48, 52, 55, 60, 62]\n",
        "profession_b = [45, 50, 55, 52, 47]\n",
        "\n",
        "# Calculate the variances of both professions\n",
        "var_a = np.var(profession_a, ddof=1)  # sample variance\n",
        "var_b = np.var(profession_b, ddof=1)  # sample variance\n",
        "\n",
        "# F-statistic calculation (larger variance / smaller variance)\n",
        "f_stat = max(var_a, var_b) / min(var_a, var_b)\n",
        "\n",
        "# Degrees of freedom\n",
        "df_a = len(profession_a) - 1\n",
        "df_b = len(profession_b) - 1\n",
        "\n",
        "# Calculate the p-value using the F-distribution\n",
        "p_value = 1 - f.cdf(f_stat, df_a, df_b)\n",
        "\n",
        "# Output the results\n",
        "f_stat, p_value\n",
        "\n"
      ]
    },
    {
      "cell_type": "code",
      "source": [
        "#9. Question: Conduct a one-way ANOVA to test whether there are any statistically significant differences in average heights between three different regions with the following data\n",
        "#Region A: [160, 162, 165, 158, 164 Region B: [172, 175, 170, 168, 174 Region C: [180, 182, 179, 185, 183\n",
        "#Task: Write Python code to perform the one-way ANOVA and interpret the results Objective: Learn how to perform one-way ANOVA using Python and interpret F-statistic and p-value.\n",
        "\n",
        "import numpy as np\n",
        "from scipy.stats import f_oneway\n",
        "\n",
        "# Data for the heights of the three regions\n",
        "region_a = [160, 162, 165, 158, 164]\n",
        "region_b = [172, 175, 170, 168, 174]\n",
        "region_c = [180, 182, 179, 185, 183]\n",
        "\n",
        "# Perform one-way ANOVA\n",
        "f_stat, p_value = f_oneway(region_a, region_b, region_c)\n",
        "\n",
        "# Output the F-statistic and p-value\n",
        "f_stat, p_value\n",
        "\n"
      ],
      "metadata": {
        "colab": {
          "base_uri": "https://localhost:8080/"
        },
        "id": "0FDIUVEdjP97",
        "outputId": "1a78f361-ab42-436c-bddc-a6ea3e77bd97"
      },
      "execution_count": 2,
      "outputs": [
        {
          "output_type": "execute_result",
          "data": {
            "text/plain": [
              "(67.87330316742101, 2.870664187937026e-07)"
            ]
          },
          "metadata": {},
          "execution_count": 2
        }
      ]
    },
    {
      "cell_type": "code",
      "source": [],
      "metadata": {
        "id": "KdqZPMIyjiZu"
      },
      "execution_count": null,
      "outputs": []
    }
  ]
}