{
  "nbformat": 4,
  "nbformat_minor": 0,
  "metadata": {
    "colab": {
      "provenance": []
    },
    "kernelspec": {
      "name": "python3",
      "display_name": "Python 3"
    },
    "language_info": {
      "name": "python"
    }
  },
  "cells": [
    {
      "cell_type": "code",
      "execution_count": 1,
      "metadata": {
        "id": "VMvSbQY6gUNN"
      },
      "outputs": [],
      "source": [
        " #Explain the different types of data (qualitative and quantitative) and provide examples of each. Discuss nominal, ordinal, interval, and ratio scales.\n",
        "\n",
        " #Types of Data:\n",
        "#Qualitative Data: Describes qualities or characteristics.\n",
        "\n",
        "#Examples:\n",
        " #Nominal: Categories without order (e.g., colors like red, green, blue).\n",
        " #Ordinal: Ordered categories (e.g., customer satisfaction levels: poor, average, excellent).\n",
        " #Quantitative Data: Numeric data measurable on a scale.\n",
        "\n",
        " #Examples:\n",
        " #Interval: Numeric with equal intervals but no true zero (e.g., temperature in Celsius or Fahrenheit).\n",
        " #Ratio: Numeric with a true zero (e.g., height, weight, or salary).\n",
        "#Scales of Measurement:\n",
        " #Nominal: Categories, no meaningful order (e.g., gender, blood group).\n",
        " #Ordinal: Ordered categories, but intervals are not uniform (e.g., education level: high school, bachelor’s, master’s).\n",
        " #Interval: Ordered with equal intervals, no true zero (e.g., IQ scores, calendar years).\n",
        " #Ratio: Ordered with equal intervals and a true zero (e.g., distance, income).\n"
      ]
    },
    {
      "cell_type": "code",
      "source": [
        "#2. What are the measures of central tendency, and when should you use each? Discuss the mean, median, and mode with examples and situations where each is appropriate.\n",
        "\n",
        "#Measures of Central Tendency:\n",
        "#Mean (Average): The sum of all values divided by the total number of values.\n",
        "\n",
        " #Use: When data is evenly distributed without extreme outliers.\n",
        " #Example: Average test scores of a class (e.g., 70, 80, 90 → Mean = (70+80+90)/3 = 80).\n",
        " #Appropriate: For numerical data, like calculating GDP or average temperatures.\n",
        " #Median: The middle value in an ordered dataset.\n",
        "\n",
        " #Use: When data has outliers or is skewed.\n",
        " #Example: House prices (e.g., $100K, $200K, $10M → Median = $200K).\n",
        " #Appropriate: When data distribution is not symmetric, like income or property prices.\n",
        " #Mode: The most frequently occurring value(s) in the dataset.\n",
        "\n",
        " #Use: For identifying common categories or repeated values.\n",
        " #Example: Most common shoe size sold (e.g., Sizes: 6, 6, 7, 8 → Mode = 6).\n",
        " #Appropriate: For categorical or discrete data, like voting preferences or survey results.\n",
        "\n"
      ],
      "metadata": {
        "id": "44FzwMPdg0-r"
      },
      "execution_count": 2,
      "outputs": []
    },
    {
      "cell_type": "code",
      "source": [
        "#  What is a box plot, and what can it tell you about the distribution of data?\n",
        "\n",
        "#A box plot (or box-and-whisker plot) is a graphical representation of a dataset's distribution. It summarizes key aspects like the median, quartiles, and potential outliers.\n",
        "\n",
        " #Components:\n",
        " #Box: Represents the interquartile range (IQR), which contains the middle 50% of the data (from Q1 to Q3).\n",
        " #Line in the Box: Represents the median (Q2).\n",
        " #Whiskers: Extend to the smallest and largest values within 1.5 times the IQR from Q1 and Q3.\n",
        " #Outliers: Data points outside the whiskers are plotted individually.\n",
        "#What It Tells You:\n",
        " #Center: Median shows the central tendency of the data.\n",
        " #Spread: The length of the box and whiskers indicates variability.\n",
        "#Symmetry: The box's position relative to the median reveals skewness.\n",
        " #Outliers: Identifies unusually high or low data points.\n",
        "#Example Use:\n",
        " #A box plot of exam scores might reveal:\n",
        "\n",
        "#Median score: 75.\n",
        "#A wider box, indicating significant variability.\n",
        "#Outliers above 95 and below 50.\n",
        "\n"
      ],
      "metadata": {
        "id": "Iq5wQ1GshYoT"
      },
      "execution_count": 3,
      "outputs": []
    },
    {
      "cell_type": "code",
      "source": [
        "# Discuss the role of random sampling in making inferences about populations.\n",
        "\n",
        "#Role of Random Sampling in Population Inference:\n",
        " #Random sampling involves selecting a subset of individuals from a population such that every individual has an equal chance of being chosen. It is crucial for making accurate inferences about populations in statistics.\n",
        "\n",
        " #Key Roles:\n",
        " #Representativeness: Ensures the sample reflects the population's diversity, reducing bias.\n",
        "\n",
        "#Example: A random survey of voters avoids over-representing specific demographics.\n",
        " #Generalizability: Enables conclusions drawn from the sample to apply to the entire population.\n",
        "\n",
        "#Example: Estimating average income by sampling households.\n",
        " #Reduction of Bias: Avoids systematic errors by giving all elements an equal selection probability.\n",
        "\n",
        " #Statistical Validity: Facilitates the use of probability theory to measure sampling error and calculate confidence intervals.\n",
        "\n",
        "#Importance in Inferences:\n",
        "#Without random sampling, results may be skewed and unreliable.\n",
        "#It supports hypothesis testing and prediction by ensuring assumptions hold true.\n",
        "#Example:\n",
        "#A study on student performance randomly selects 200 students from a university. This allows researchers to infer the performance trends of all students, assuming the sample is sufficiently random and large."
      ],
      "metadata": {
        "id": "sikUyeiHmACI"
      },
      "execution_count": 4,
      "outputs": []
    },
    {
      "cell_type": "code",
      "source": [
        "# Explain the concept of skewness and its types. How does skewness affect the interpretation of data?\n",
        "\n",
        "#Concept of Skewness:\n",
        " #Skewness measures the asymmetry of a dataset's distribution around its mean. It indicates whether data points are concentrated more on one side of the mean, affecting how the data is interpreted.\n",
        "\n",
        "#Types of Skewness:\n",
        " #Positive Skew (Right-Skewed):\n",
        "\n",
        "#Tail on the right side is longer.\n",
        "#Most data points are concentrated on the left.\n",
        "#Effect: Mean > Median > Mode.\n",
        "#Example: Income distributions, where a few high incomes stretch the data.\n",
        "#Negative Skew (Left-Skewed):\n",
        "\n",
        "#Tail on the left side is longer.\n",
        "#ost data points are concentrated on the right.\n",
        "#Effect: Mean < Median < Mode.\n",
        "#Example: Exam scores, where most students score high but a few perform poorly.\n",
        "#Symmetrical Distribution (No Skew):\n",
        "\n",
        "#Left and right sides of the distribution are mirror images.\n",
        "#Effect: Mean ≈ Median ≈ Mode.\n",
        "#Example: Heights of people in a population.\n",
        "#Impact of Skewness on Data Interpretation:\n",
        "#Central Tendency: In skewed data, the mean is not a reliable measure, and the median or mode may better represent the central tendency.\n",
        "#Spread: Variance and standard deviation may be influenced by extreme values in skewed distributions.\n",
        "#Decision Making: Skewed distributions may require transformations (e.g., log transformation) for proper statistical analysis.\n",
        "#Example:\n",
        "#Positive Skew: Average salary in a company dominated by a few very high earners.\n",
        "#Negative Skew: Time it takes to complete a simple task, where most people finish quickly but a few take longer.\n",
        "\n"
      ],
      "metadata": {
        "id": "XcHPVhhEmdLs"
      },
      "execution_count": 5,
      "outputs": []
    },
    {
      "cell_type": "code",
      "source": [
        "#. Discuss the conditions under which the binomial distribution is used.\n",
        "\n",
        "# Conditions for Using the Binomial Distribution:\n",
        "#The binomial distribution applies when a random experiment satisfies the following conditions:\n",
        "\n",
        "#Fixed Number of Trials (𝑛):\n",
        "\n",
        "#The experiment is repeated a specific number of times.\n",
        "#Example: Tossing a coin 10 times.\n",
        "#Two Possible Outcomes:\n",
        "\n",
        "#Each trial has only two outcomes: success or failure.\n",
        "#Example: Winning or losing a game.\n",
        "#Constant Probability of Success (𝑝):\n",
        "\n",
        "#The probability of success remains the same for each trial.\n",
        "#Example: Probability of rolling a 6 on a die is always 1/6.\n",
        "#Independent Trials:\n",
        "\n",
        "#The outcome of one trial does not influence the others.\n",
        "#Example: Flipping a coin multiple times.\n",
        "\n",
        "#A coin is tossed 5 times (𝑛=5n=5) and the probability of heads (𝑝=0.5p=0.5) is constant. The distribution of outcomes (e.g., number of heads) follows a binomial distribution.\n",
        "\n",
        "#Use Cases:\n",
        "#Testing defect rates in manufacturing.\n",
        "#Estimating probabilities in surveys.\n",
        "#Modeling outcomes in games of chance.\n",
        "\n"
      ],
      "metadata": {
        "id": "-cftVW3gm2CB"
      },
      "execution_count": 6,
      "outputs": []
    },
    {
      "cell_type": "code",
      "source": [
        "# Explain the properties of the normal distribution and the empirical rule (68-95-99.7 rule).\n",
        "\n",
        "#Properties of the Normal Distribution:\n",
        "#Symmetrical: The curve is perfectly symmetrical around the mean.\n",
        "#Bell-Shaped Curve: Highest point at the mean, with the probability tapering off equally on both sides.\n",
        "#Mean = Median = Mode: All central measures are equal and located at the center.\n",
        "#Asymptotic: The tails extend infinitely without touching the x-axis.\n",
        "#Defined by Two Parameters: Mean (𝜇) and standard deviation (σ).\n",
        "#Area Under the Curve: The total area equals 1, representing the entire probability.\n",
        "#The empirical rule describes the percentage of data within specific standard deviations (𝜎) of the mean (𝜇) in a normal distribution:\n",
        "\n",
        "#68% of data falls within 1 standard deviation\n",
        "#95% of data falls within 2 standard deviations\n",
        "#99.7% of data falls within 3 standard deviations\n",
        "\n",
        "#Data Distribution: Provides a quick understanding of data spread.\n",
        "#Outlier Detection: Points beyond 3 standard deviations are rare and can be flagged as outliers.\n",
        "#Probabilities: Helps estimate probabilities for specific ranges of values.\n"
      ],
      "metadata": {
        "id": "v-hiFVUYpwtF"
      },
      "execution_count": 7,
      "outputs": []
    },
    {
      "cell_type": "code",
      "source": [
        "# Provide a real-life example of a Poisson process and calculate the probability for a specific event.\n",
        "#A Poisson process models events that occur randomly and independently over a fixed interval of time or space.\n",
        "#A real-life example is the number of cars arriving at a toll booth during a specific time period, such as 10 minutes.\n",
        "\n",
        "import math\n",
        "\n",
        "lambda_value = 4  # Average calls per minute\n",
        "k = 3  # Number of calls we're interested in\n",
        "\n",
        "# Poisson probability\n",
        "poisson_prob = (math.exp(-lambda_value) * lambda_value**k) / math.factorial(k)\n",
        "\n",
        "print(f\"The probability of receiving exactly {k} calls in one minute is: {poisson_prob:.4f}\")\n"
      ],
      "metadata": {
        "colab": {
          "base_uri": "https://localhost:8080/"
        },
        "id": "FsNA5UAsqn3Q",
        "outputId": "de3f6dbc-db7e-4ac4-9043-30254c28c50e"
      },
      "execution_count": 12,
      "outputs": [
        {
          "output_type": "stream",
          "name": "stdout",
          "text": [
            "The probability of receiving exactly 3 calls in one minute is: 0.1954\n"
          ]
        }
      ]
    },
    {
      "cell_type": "code",
      "source": [
        "#. Explain what a random variable is and differentiate between discrete and continuous random variables.\n",
        "\n",
        "#A random variable is a numerical outcome of a random experiment or process. It assigns a real number to each possible outcome of a random phenomenon. For example, if you roll a die, the number showing on the die is a random variable because its value depends on chance.\n",
        "\n",
        "#Types of Random Variables:\n",
        "#Discrete Random Variables:\n",
        "#Definition: A discrete random variable can take only a finite or countably infinite number of distinct values.\n",
        "#Example: The number of heads in 5 coin tosses (can be 0, 1, 2, 3, 4, or 5).\n",
        "#Characteristics:\n",
        "#The outcomes are distinct and countable.\n",
        "#Probability distribution is often represented in a probability mass function (PMF).\n",
        "#Continuous Random Variables:\n",
        "#efinition: A continuous random variable can take any value within a given range or interval, meaning it has an infinite number of possible values.\n",
        "#Example: The height of students in a class (can take any value within a specific range, such as 150.5 cm, 151.3 cm, etc.).\n",
        "#Characteristics:\n",
        "#The outcomes are uncountable within a given range.\n",
        "#Probability distribution is represented by a probability density function (PDF).\n",
        "\n",
        "#Discrete random variables are used in scenarios like counting (e.g., the number of defects in a product batch).\n",
        "#Continuous random variables model measurements and are crucial for fields like physics, economics, and engineering, where precision and a wide range of values are needed.\n",
        "\n"
      ],
      "metadata": {
        "id": "Zg_w_rVbuN7s"
      },
      "execution_count": 10,
      "outputs": []
    },
    {
      "cell_type": "code",
      "source": [
        "# Provide an example dataset, calculate both covariance and correlation, and interpret the results.\n",
        "\n",
        "import numpy as np\n",
        "import pandas as pd\n",
        "\n",
        "\n",
        "data = {\n",
        "    'X': [2, 3, 5, 7, 8],  # Hours studied\n",
        "    'Y': [50, 55, 60, 65, 70]  # Test scores\n",
        "}\n",
        "\n",
        "\n",
        "df = pd.DataFrame(data)\n",
        "\n",
        "\n",
        "covariance = np.cov(df['X'], df['Y'])[0][1]\n",
        "\n",
        "correlation = np.corrcoef(df['X'], df['Y'])[0][1]\n",
        "\n",
        "print(f\"Covariance: {covariance}\")\n",
        "print(f\"Correlation: {correlation}\")\n"
      ],
      "metadata": {
        "colab": {
          "base_uri": "https://localhost:8080/"
        },
        "id": "UL7d1I8GuhdC",
        "outputId": "d6f04e8d-edc7-4f4e-9316-7538e8122c38"
      },
      "execution_count": 11,
      "outputs": [
        {
          "output_type": "stream",
          "name": "stdout",
          "text": [
            "Covariance: 20.0\n",
            "Correlation: 0.9922778767136677\n"
          ]
        }
      ]
    },
    {
      "cell_type": "code",
      "source": [],
      "metadata": {
        "id": "FnQ2LTMBuyL4"
      },
      "execution_count": null,
      "outputs": []
    }
  ]
}