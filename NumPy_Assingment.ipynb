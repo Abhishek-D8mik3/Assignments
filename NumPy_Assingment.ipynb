{
  "nbformat": 4,
  "nbformat_minor": 0,
  "metadata": {
    "colab": {
      "provenance": []
    },
    "kernelspec": {
      "name": "python3",
      "display_name": "Python 3"
    },
    "language_info": {
      "name": "python"
    }
  },
  "cells": [
    {
      "cell_type": "code",
      "source": [
        "import numpy as np"
      ],
      "metadata": {
        "id": "h9c9pH-vxYmM"
      },
      "execution_count": null,
      "outputs": []
    },
    {
      "cell_type": "code",
      "execution_count": null,
      "metadata": {
        "id": "JwQRkiA9xGad"
      },
      "outputs": [],
      "source": [
        "#Q1  Create a 3x3 NumPy array with random integers between 1 and 100. Then, interchange its rows and columns.\n",
        "\n",
        "arr1= np.random.randint(1,100, size=(3,3))"
      ]
    },
    {
      "cell_type": "code",
      "source": [
        "arr1"
      ],
      "metadata": {
        "colab": {
          "base_uri": "https://localhost:8080/"
        },
        "id": "cgvVUGStxoND",
        "outputId": "1edc4f6f-3b1f-4ac1-de9b-b3596cf9ee3e"
      },
      "execution_count": null,
      "outputs": [
        {
          "output_type": "execute_result",
          "data": {
            "text/plain": [
              "array([[82, 25, 93],\n",
              "       [23, 76, 47],\n",
              "       [ 2, 50, 45]])"
            ]
          },
          "metadata": {},
          "execution_count": 8
        }
      ]
    },
    {
      "cell_type": "code",
      "source": [
        "arr1.T"
      ],
      "metadata": {
        "colab": {
          "base_uri": "https://localhost:8080/"
        },
        "id": "BdE43lwXyTaS",
        "outputId": "e2dca77b-0147-4a3c-d84d-5367e2c575e1"
      },
      "execution_count": null,
      "outputs": [
        {
          "output_type": "execute_result",
          "data": {
            "text/plain": [
              "array([[82, 23,  2],\n",
              "       [25, 76, 50],\n",
              "       [93, 47, 45]])"
            ]
          },
          "metadata": {},
          "execution_count": 9
        }
      ]
    },
    {
      "cell_type": "code",
      "source": [
        "#Q2 Generate a 1D NumPy array with 10 elements. Reshape it into a 2x5 array, then into a 5x2 array.\n",
        "\n",
        "arr2= np.array([1,2,3,4,5,6,7,8,9,10])"
      ],
      "metadata": {
        "id": "PnLO6G-eyXur"
      },
      "execution_count": null,
      "outputs": []
    },
    {
      "cell_type": "code",
      "source": [
        "arr2"
      ],
      "metadata": {
        "colab": {
          "base_uri": "https://localhost:8080/"
        },
        "id": "Is5-X0SQyr9J",
        "outputId": "79b9f539-0108-4bf2-9337-b3249b2b6641"
      },
      "execution_count": null,
      "outputs": [
        {
          "output_type": "execute_result",
          "data": {
            "text/plain": [
              "array([ 1,  2,  3,  4,  5,  6,  7,  8,  9, 10])"
            ]
          },
          "metadata": {},
          "execution_count": 21
        }
      ]
    },
    {
      "cell_type": "code",
      "source": [
        "arr2.reshape(2,5)"
      ],
      "metadata": {
        "colab": {
          "base_uri": "https://localhost:8080/"
        },
        "id": "h3OI4CC8y7o9",
        "outputId": "b0569094-526e-4ec3-ca17-5f8e7c023cfc"
      },
      "execution_count": null,
      "outputs": [
        {
          "output_type": "execute_result",
          "data": {
            "text/plain": [
              "array([[ 1,  2,  3,  4,  5],\n",
              "       [ 6,  7,  8,  9, 10]])"
            ]
          },
          "metadata": {},
          "execution_count": 22
        }
      ]
    },
    {
      "cell_type": "code",
      "source": [
        "arr2.reshape(5,2)"
      ],
      "metadata": {
        "colab": {
          "base_uri": "https://localhost:8080/"
        },
        "id": "TEJqWKZHzGfS",
        "outputId": "2b862a32-f2a8-4f9b-c3ad-4df943f6494f"
      },
      "execution_count": null,
      "outputs": [
        {
          "output_type": "execute_result",
          "data": {
            "text/plain": [
              "array([[ 1,  2],\n",
              "       [ 3,  4],\n",
              "       [ 5,  6],\n",
              "       [ 7,  8],\n",
              "       [ 9, 10]])"
            ]
          },
          "metadata": {},
          "execution_count": 23
        }
      ]
    },
    {
      "cell_type": "code",
      "source": [
        "#Q3 Create a 4x4 NumPy array with random float values. Add a border of zeros around it, resulting in a 6x6 array\n",
        "\n",
        "arr_4x4=np.random.rand(4,4)"
      ],
      "metadata": {
        "id": "f5xTgSG3zlG3"
      },
      "execution_count": null,
      "outputs": []
    },
    {
      "cell_type": "code",
      "source": [
        "arr_4x4"
      ],
      "metadata": {
        "colab": {
          "base_uri": "https://localhost:8080/"
        },
        "id": "NwN26DA7z6G8",
        "outputId": "80ce141b-7bb5-4db6-c4f4-bbd4bae2d22b"
      },
      "execution_count": null,
      "outputs": [
        {
          "output_type": "execute_result",
          "data": {
            "text/plain": [
              "array([[0.54726268, 0.57097239, 0.84798893, 0.1025894 ],\n",
              "       [0.13405326, 0.28932906, 0.73552298, 0.92291481],\n",
              "       [0.88363014, 0.03766422, 0.0203113 , 0.43074028],\n",
              "       [0.28071326, 0.76568439, 0.05822657, 0.20391718]])"
            ]
          },
          "metadata": {},
          "execution_count": 31
        }
      ]
    },
    {
      "cell_type": "code",
      "source": [
        "arr_6x6 = np.pad(arr_4x4, pad_width=1, mode='constant', constant_values=0)\n"
      ],
      "metadata": {
        "id": "34_2nEUN0DL0"
      },
      "execution_count": null,
      "outputs": []
    },
    {
      "cell_type": "code",
      "source": [
        "arr_6x6"
      ],
      "metadata": {
        "colab": {
          "base_uri": "https://localhost:8080/"
        },
        "id": "GxIhB-v-0o5B",
        "outputId": "da9251f3-e654-43ad-8520-34c0fd51d791"
      },
      "execution_count": null,
      "outputs": [
        {
          "output_type": "execute_result",
          "data": {
            "text/plain": [
              "array([[0.        , 0.        , 0.        , 0.        , 0.        ,\n",
              "        0.        ],\n",
              "       [0.        , 0.54726268, 0.57097239, 0.84798893, 0.1025894 ,\n",
              "        0.        ],\n",
              "       [0.        , 0.13405326, 0.28932906, 0.73552298, 0.92291481,\n",
              "        0.        ],\n",
              "       [0.        , 0.88363014, 0.03766422, 0.0203113 , 0.43074028,\n",
              "        0.        ],\n",
              "       [0.        , 0.28071326, 0.76568439, 0.05822657, 0.20391718,\n",
              "        0.        ],\n",
              "       [0.        , 0.        , 0.        , 0.        , 0.        ,\n",
              "        0.        ]])"
            ]
          },
          "metadata": {},
          "execution_count": 36
        }
      ]
    },
    {
      "cell_type": "code",
      "source": [
        "#Q4 Using NumPy, create an array of integers from 10 to 60 with a step of 5\n",
        "\n",
        "arr3= np.arange(10,60,5)"
      ],
      "metadata": {
        "id": "ap5QGTKF0tlM"
      },
      "execution_count": null,
      "outputs": []
    },
    {
      "cell_type": "code",
      "source": [
        "arr3"
      ],
      "metadata": {
        "colab": {
          "base_uri": "https://localhost:8080/"
        },
        "id": "CtLXyuQ71yI3",
        "outputId": "41ace1fa-77ac-44c8-d906-df0014a7edaf"
      },
      "execution_count": null,
      "outputs": [
        {
          "output_type": "execute_result",
          "data": {
            "text/plain": [
              "array([10, 15, 20, 25, 30, 35, 40, 45, 50, 55])"
            ]
          },
          "metadata": {},
          "execution_count": 48
        }
      ]
    },
    {
      "cell_type": "code",
      "source": [
        "#Q5 Create a NumPy array of strings ['python', 'numpy', 'pandas']. Apply different case transformations(uppercase, lowercase, title case, etc.) to each element.\n",
        "\n",
        "arr4= np.array([\"python\",\"numpy\",\"pandas\"])"
      ],
      "metadata": {
        "id": "5pNU3HBZ1zaa"
      },
      "execution_count": null,
      "outputs": []
    },
    {
      "cell_type": "code",
      "source": [
        "arr4"
      ],
      "metadata": {
        "colab": {
          "base_uri": "https://localhost:8080/"
        },
        "id": "OU_jsm_z3WAk",
        "outputId": "9da09711-5360-44b2-86ed-60df53c1dc63"
      },
      "execution_count": null,
      "outputs": [
        {
          "output_type": "execute_result",
          "data": {
            "text/plain": [
              "array(['python', 'numpy', 'pandas'], dtype='<U6')"
            ]
          },
          "metadata": {},
          "execution_count": 50
        }
      ]
    },
    {
      "cell_type": "code",
      "source": [
        "np.char.upper(arr4)"
      ],
      "metadata": {
        "colab": {
          "base_uri": "https://localhost:8080/"
        },
        "id": "LA2R30F83XB6",
        "outputId": "281f3c14-1825-4896-e47e-a0478cc2c375"
      },
      "execution_count": null,
      "outputs": [
        {
          "output_type": "execute_result",
          "data": {
            "text/plain": [
              "array(['PYTHON', 'NUMPY', 'PANDAS'], dtype='<U6')"
            ]
          },
          "metadata": {},
          "execution_count": 51
        }
      ]
    },
    {
      "cell_type": "code",
      "source": [
        "np.char.lower(arr4)"
      ],
      "metadata": {
        "colab": {
          "base_uri": "https://localhost:8080/"
        },
        "id": "bNPcpbEh4HRj",
        "outputId": "9f6d41e0-b44b-4b95-acaa-648c9badd840"
      },
      "execution_count": null,
      "outputs": [
        {
          "output_type": "execute_result",
          "data": {
            "text/plain": [
              "array(['python', 'numpy', 'pandas'], dtype='<U6')"
            ]
          },
          "metadata": {},
          "execution_count": 52
        }
      ]
    },
    {
      "cell_type": "code",
      "source": [
        "np.char.title(arr4)"
      ],
      "metadata": {
        "colab": {
          "base_uri": "https://localhost:8080/"
        },
        "id": "qRD5DZ014MFQ",
        "outputId": "a4b86107-c962-480d-da1c-b8de0eb89624"
      },
      "execution_count": null,
      "outputs": [
        {
          "output_type": "execute_result",
          "data": {
            "text/plain": [
              "array(['Python', 'Numpy', 'Pandas'], dtype='<U6')"
            ]
          },
          "metadata": {},
          "execution_count": 53
        }
      ]
    },
    {
      "cell_type": "code",
      "source": [
        "#Q6 Generate a NumPy array of words. Insert a space between each character of every word in the array\n",
        "\n",
        "arr_normal= np.array([\"python\",\"numpy\",\"pandas\"])"
      ],
      "metadata": {
        "id": "2hbdo4h-4PYD"
      },
      "execution_count": null,
      "outputs": []
    },
    {
      "cell_type": "code",
      "source": [
        "arr_normal"
      ],
      "metadata": {
        "colab": {
          "base_uri": "https://localhost:8080/"
        },
        "id": "FbT8s-rX5DXP",
        "outputId": "d862aa5e-32f4-482f-8a6a-b11affe00dd5"
      },
      "execution_count": null,
      "outputs": [
        {
          "output_type": "execute_result",
          "data": {
            "text/plain": [
              "array(['python', 'numpy', 'pandas'], dtype='<U6')"
            ]
          },
          "metadata": {},
          "execution_count": 56
        }
      ]
    },
    {
      "cell_type": "code",
      "source": [
        "arr_space= np.char.join(\" \", arr_normal)"
      ],
      "metadata": {
        "id": "ikUttlz35HNx"
      },
      "execution_count": null,
      "outputs": []
    },
    {
      "cell_type": "code",
      "source": [
        "arr_space"
      ],
      "metadata": {
        "colab": {
          "base_uri": "https://localhost:8080/"
        },
        "id": "2L-pAzQ35UsR",
        "outputId": "4a78dd46-bf76-4240-d3f2-a32aef8cce6a"
      },
      "execution_count": null,
      "outputs": [
        {
          "output_type": "execute_result",
          "data": {
            "text/plain": [
              "array(['p y t h o n', 'n u m p y', 'p a n d a s'], dtype='<U11')"
            ]
          },
          "metadata": {},
          "execution_count": 58
        }
      ]
    },
    {
      "cell_type": "code",
      "source": [
        "#Q7  Create two 2D NumPy arrays and perform element-wise addition, subtraction, multiplication, and division.\n",
        "\n",
        "arr_1= np.array([[2,4,6,8]])\n",
        "arr_2= np.array([[1,3,5,7]])"
      ],
      "metadata": {
        "id": "QmIJnZlD5WSS"
      },
      "execution_count": null,
      "outputs": []
    },
    {
      "cell_type": "code",
      "source": [
        "np.add(arr_1,arr_2)"
      ],
      "metadata": {
        "colab": {
          "base_uri": "https://localhost:8080/"
        },
        "id": "bIofO6XC5_ZK",
        "outputId": "c9c5d627-8605-4f23-ea6f-8b048124804a"
      },
      "execution_count": null,
      "outputs": [
        {
          "output_type": "execute_result",
          "data": {
            "text/plain": [
              "array([[ 3,  7, 11, 15]])"
            ]
          },
          "metadata": {},
          "execution_count": 67
        }
      ]
    },
    {
      "cell_type": "code",
      "source": [
        "np.subtract(arr_1,arr_2)"
      ],
      "metadata": {
        "colab": {
          "base_uri": "https://localhost:8080/"
        },
        "id": "B3Qs1p196AUz",
        "outputId": "b81c4e67-449e-4ee9-d3b3-fcbfe60d916d"
      },
      "execution_count": null,
      "outputs": [
        {
          "output_type": "execute_result",
          "data": {
            "text/plain": [
              "array([[1, 1, 1, 1]])"
            ]
          },
          "metadata": {},
          "execution_count": 68
        }
      ]
    },
    {
      "cell_type": "code",
      "source": [
        "np.multiply(arr_1,arr_2)"
      ],
      "metadata": {
        "colab": {
          "base_uri": "https://localhost:8080/"
        },
        "id": "k8uU7vY76ItD",
        "outputId": "a23ec16f-e62a-4d20-9ee9-790483d3bdcc"
      },
      "execution_count": null,
      "outputs": [
        {
          "output_type": "execute_result",
          "data": {
            "text/plain": [
              "array([[ 2, 12, 30, 56]])"
            ]
          },
          "metadata": {},
          "execution_count": 70
        }
      ]
    },
    {
      "cell_type": "code",
      "source": [
        "np.divide(arr_1,arr_2)"
      ],
      "metadata": {
        "colab": {
          "base_uri": "https://localhost:8080/"
        },
        "id": "-PH2QsUE7Jwp",
        "outputId": "e4334048-e634-4514-afd2-fe1757ad411f"
      },
      "execution_count": null,
      "outputs": [
        {
          "output_type": "execute_result",
          "data": {
            "text/plain": [
              "array([[2.        , 1.33333333, 1.2       , 1.14285714]])"
            ]
          },
          "metadata": {},
          "execution_count": 71
        }
      ]
    },
    {
      "cell_type": "code",
      "source": [
        "#Q8  Use NumPy to create a 5x5 identity matrix, then extract its diagonal elements.\n",
        "\n",
        "mat_1= np.eye(5,5)"
      ],
      "metadata": {
        "id": "Eh4rHEJm70bW"
      },
      "execution_count": null,
      "outputs": []
    },
    {
      "cell_type": "code",
      "source": [
        "mat_1"
      ],
      "metadata": {
        "colab": {
          "base_uri": "https://localhost:8080/"
        },
        "id": "7v7_Orpq8miv",
        "outputId": "4788eb0a-5f76-43a9-e092-d2ed4c4640b6"
      },
      "execution_count": null,
      "outputs": [
        {
          "output_type": "execute_result",
          "data": {
            "text/plain": [
              "array([[1., 0., 0., 0., 0.],\n",
              "       [0., 1., 0., 0., 0.],\n",
              "       [0., 0., 1., 0., 0.],\n",
              "       [0., 0., 0., 1., 0.],\n",
              "       [0., 0., 0., 0., 1.]])"
            ]
          },
          "metadata": {},
          "execution_count": 73
        }
      ]
    },
    {
      "cell_type": "code",
      "source": [
        "diag_ele= np.diag(mat_1)"
      ],
      "metadata": {
        "id": "9YI1n6H38oSo"
      },
      "execution_count": null,
      "outputs": []
    },
    {
      "cell_type": "code",
      "source": [
        "diag_ele"
      ],
      "metadata": {
        "colab": {
          "base_uri": "https://localhost:8080/"
        },
        "id": "hwhbSMBi8zKv",
        "outputId": "e65cc91a-6443-4975-d556-1d605dfc1d7d"
      },
      "execution_count": null,
      "outputs": [
        {
          "output_type": "execute_result",
          "data": {
            "text/plain": [
              "array([1., 1., 1., 1., 1.])"
            ]
          },
          "metadata": {},
          "execution_count": 76
        }
      ]
    },
    {
      "cell_type": "code",
      "source": [
        "#Q9  Generate a NumPy array of 100 random integers between 0 and 1000. Find and display all prime numbers in this array\n",
        "\n",
        "def is_prime(n):\n",
        "    if n < 2:\n",
        "        return False\n",
        "    for i in range(2, int(np.sqrt(n)) + 1):\n",
        "        if n % i == 0:\n",
        "            return False\n",
        "    return True\n",
        "\n",
        "\n",
        "arr6= np.random.randint(1,1000, size=100)\n",
        "\n",
        "prime_num= np.array([num for num in arr6 if is_prime(num)])"
      ],
      "metadata": {
        "id": "hOK4aCpL85Mp"
      },
      "execution_count": null,
      "outputs": []
    },
    {
      "cell_type": "code",
      "source": [
        "arr6"
      ],
      "metadata": {
        "colab": {
          "base_uri": "https://localhost:8080/"
        },
        "id": "LSvZbgbt9OP1",
        "outputId": "12ef2a17-b84e-40bd-a7ae-a0c1c851f89c"
      },
      "execution_count": null,
      "outputs": [
        {
          "output_type": "execute_result",
          "data": {
            "text/plain": [
              "array([777, 566, 536, 252, 523, 256, 525, 137, 954, 735, 832, 643, 885,\n",
              "       557, 702, 754, 442, 274, 810, 604, 298, 397, 177, 991, 797, 960,\n",
              "       568, 847, 785, 529, 728, 332, 607, 485, 439, 858, 316, 743, 893,\n",
              "       194, 200, 206, 602, 279, 181, 741, 567, 506, 896, 523, 596, 821,\n",
              "       454, 366, 545, 895, 120, 515, 649, 179, 194, 255, 994, 628, 414,\n",
              "       287,  60, 901,   7, 307, 524, 855, 552, 465, 973, 407, 621,  27,\n",
              "       206, 960, 881, 613, 965, 176, 857, 272, 302, 137, 936, 820,  48,\n",
              "       368, 823, 240, 425, 352, 571, 500, 178, 402])"
            ]
          },
          "metadata": {},
          "execution_count": 80
        }
      ]
    },
    {
      "cell_type": "code",
      "source": [
        "prime_num"
      ],
      "metadata": {
        "colab": {
          "base_uri": "https://localhost:8080/"
        },
        "id": "AHZvOC2C9PkZ",
        "outputId": "2079205b-7203-4692-d8cc-d880b78d65ee"
      },
      "execution_count": null,
      "outputs": [
        {
          "output_type": "execute_result",
          "data": {
            "text/plain": [
              "array([523, 137, 643, 557, 397, 991, 797, 607, 439, 743, 181, 523, 821,\n",
              "       179,   7, 307, 881, 613, 857, 137, 823, 571])"
            ]
          },
          "metadata": {},
          "execution_count": 81
        }
      ]
    },
    {
      "cell_type": "code",
      "source": [
        "#Q10  Create a NumPy array representing daily temperatures for a month. Calculate and display the weekly averages.\n",
        "\n",
        "daily_temp= np.random.randint(15,36, size=30)\n",
        "daily_temp"
      ],
      "metadata": {
        "colab": {
          "base_uri": "https://localhost:8080/"
        },
        "id": "mn_AHfLY-YjT",
        "outputId": "46094fb6-72c9-48ec-8fc1-c88cdd1d7ee3"
      },
      "execution_count": null,
      "outputs": [
        {
          "output_type": "execute_result",
          "data": {
            "text/plain": [
              "array([33, 35, 19, 26, 20, 32, 26, 24, 23, 22, 23, 32, 27, 27, 34, 31, 16,\n",
              "       27, 20, 30, 19, 16, 18, 21, 15, 20, 17, 32, 31, 33])"
            ]
          },
          "metadata": {},
          "execution_count": 83
        }
      ]
    },
    {
      "cell_type": "code",
      "source": [
        "weekly_temp= daily_temp[:28].reshape(4,7)\n",
        "weekly_temp"
      ],
      "metadata": {
        "colab": {
          "base_uri": "https://localhost:8080/"
        },
        "id": "_qzob5j9_me5",
        "outputId": "54b566d8-49ad-46c4-9afd-4739c6c53038"
      },
      "execution_count": null,
      "outputs": [
        {
          "output_type": "execute_result",
          "data": {
            "text/plain": [
              "array([[33, 35, 19, 26, 20, 32, 26],\n",
              "       [24, 23, 22, 23, 32, 27, 27],\n",
              "       [34, 31, 16, 27, 20, 30, 19],\n",
              "       [16, 18, 21, 15, 20, 17, 32]])"
            ]
          },
          "metadata": {},
          "execution_count": 85
        }
      ]
    },
    {
      "cell_type": "code",
      "source": [
        "weekly_avg= np.mean(weekly_temp, axis=1)\n",
        "weekly_avg"
      ],
      "metadata": {
        "colab": {
          "base_uri": "https://localhost:8080/"
        },
        "id": "e6CpRtR4AFvL",
        "outputId": "66b73a20-1c04-48d3-9154-e3910b43eb03"
      },
      "execution_count": null,
      "outputs": [
        {
          "output_type": "execute_result",
          "data": {
            "text/plain": [
              "array([27.28571429, 25.42857143, 25.28571429, 19.85714286])"
            ]
          },
          "metadata": {},
          "execution_count": 86
        }
      ]
    },
    {
      "cell_type": "code",
      "source": [
        "#Q 11  Explain the purpose and advantages of NumPy in scientific computing and data analysis. How does it enhance Python's capabilities for numerical operations?\n",
        "\n",
        "#NumPy is a library in Python that helps make math and data tasks easier and faster. Here's a simple breakdown:\n",
        "\n",
        "#Purpose of NumPy:\n",
        "   #Work with numbers: It allows us to handle large amounts of numbers easily.\n",
        "   #Do math quickly: It helps do math tasks like adding or multiplying numbers quickly, even when there are a lot of them.\n",
        "   #Analyze data: It’s useful for analyzing and working with big sets of data, which is important for jobs like data analysis or science.\n",
        "#Advantages of NumPy:\n",
        "    #Faster: It makes Python faster when doing math with lots of data.\n",
        "    #Saves memory: It uses less space to store numbers than regular Python lists.\n",
        "    #Easy math: It has many ready-to-use math functions that save time.\n",
        "    #No loops: You can do things with whole groups of numbers at once, without writing long code.\n",
        "#How NumPy helps Python:\n",
        "   #Python is slow with large numbers on its own, but NumPy makes it fast.\n",
        "   # It lets Python work with tables of numbers (like a spreadsheet) more easily, which is important in science and data.\n",
        "#\n",
        "#"
      ],
      "metadata": {
        "id": "6u1-Qls0Ac2U"
      },
      "execution_count": 1,
      "outputs": []
    },
    {
      "cell_type": "code",
      "source": [
        "#Q12  Compare and contrast np.mean() and np.average() functions in NumPy. When would you use one over the other?\n",
        "\n",
        "#Both np.mean() and np.average() in NumPy are used to find the average of numbers, but they have a small difference. Here's a simple comparison:\n",
        "\n",
        "#np.mean():\n",
        "   #Basic average: It calculates the simple average of numbers.\n",
        "   #No weights: It treats all numbers equally, so it just adds them all up and divides by the total number.\n",
        "   #Usage: Use it when you want a straightforward average with no extra conditions.\n",
        "#np.average():\n",
        "   #Weighted average: It can calculate a weighted average, which means some numbers can count more than others.\n",
        "   #Can use weights: You can give certain numbers more importance by adding weights.\n",
        "   #Usage: Use it when some numbers are more important, and you want to consider that in the average.\n",
        "#When to use each:\n",
        "  #Use np.mean() when all the numbers should be treated equally.\n",
        "  #Use np.average() when you need to consider weights and make some numbers count more.\n",
        "#"
      ],
      "metadata": {
        "id": "iHgd8Y4k1XB-"
      },
      "execution_count": 2,
      "outputs": []
    },
    {
      "cell_type": "code",
      "source": [
        "#Q13  Describe the methods for reversing a NumPy array along different axes. Provide examples for 1D and 2D arrays\n",
        "\n",
        "#Reversing a NumPy array can be done in different ways depending on the number of dimensions (1D, 2D, etc.). Here’s a simple explanation for both 1D and 2D arrays:\n",
        "\n",
        " #1D Array (One-dimensional):\n",
        "   #For a 1D array (like a list of numbers), you can reverse it by using slicing.\n",
        "#Example:\n",
        "\n",
        "import numpy as np\n",
        "\n",
        "arr = np.array([1, 2, 3, 4, 5])\n",
        "reversed_arr = arr[::-1]  # This reverses the array\n",
        "\n",
        "print(reversed_arr)  # Output: [5 4 3 2 1]\n"
      ],
      "metadata": {
        "colab": {
          "base_uri": "https://localhost:8080/"
        },
        "id": "b5jAEdPO2GIH",
        "outputId": "bd516093-923e-48cc-84df-aec5cd568a53"
      },
      "execution_count": 3,
      "outputs": [
        {
          "output_type": "stream",
          "name": "stdout",
          "text": [
            "[5 4 3 2 1]\n"
          ]
        }
      ]
    },
    {
      "cell_type": "code",
      "source": [
        "#2D Array (Two-dimensional):\n",
        " #For a 2D array (like a table of numbers), you can reverse it along rows or columns.\n",
        "\n",
        "arr_2d = np.array([[1, 2, 3],\n",
        "                   [4, 5, 6],\n",
        "                   [7, 8, 9]])\n",
        "\n",
        "# Reverse rows\n",
        "reversed_rows = arr_2d[::-1, :]  # Reverse the rows\n",
        "print(reversed_rows)\n"
      ],
      "metadata": {
        "colab": {
          "base_uri": "https://localhost:8080/"
        },
        "id": "NMz95_A32i6a",
        "outputId": "6252aa47-d023-4d41-e687-4ef4a75e7892"
      },
      "execution_count": 5,
      "outputs": [
        {
          "output_type": "stream",
          "name": "stdout",
          "text": [
            "[[7 8 9]\n",
            " [4 5 6]\n",
            " [1 2 3]]\n"
          ]
        }
      ]
    },
    {
      "cell_type": "code",
      "source": [
        "#Q14  How can you determine the data type of elements in a NumPy array? Discuss the importance of data types in memory management and performance.\n",
        "\n",
        "#To determine the data type of elements in a NumPy array, you can use the dtype attribute. Here’s how you can do it:\n",
        "\n",
        "import numpy as np\n",
        "\n",
        "arr = np.array([1, 2, 3])\n",
        "print(arr.dtype)\n",
        "\n",
        "\n",
        "#arr.dtype tells you the type of elements in the array, like integers (int64) or floats (float64).\n",
        "#Importance of Data Types:\n",
        "  #Data types are important in NumPy because:\n",
        "#Memory Management: Different data types take up different amounts of memory. For example, an int32 (integer) takes less memory than a float64 (decimal number).\n",
        "  #Using the correct data type saves memory, especially when working with large datasets.\n",
        "  #Performance: Operations in NumPy are faster when using the correct data type. If you use a simpler data type (like int32 instead of float64), NumPy can process calculations more quickly.\n",
        "  #Choosing the right type improves performance, especially in calculations with big arrays."
      ],
      "metadata": {
        "colab": {
          "base_uri": "https://localhost:8080/"
        },
        "id": "0kUcGtzW2vqX",
        "outputId": "b115b1ea-2047-48ee-c756-75a50a8d50cb"
      },
      "execution_count": 6,
      "outputs": [
        {
          "output_type": "stream",
          "name": "stdout",
          "text": [
            "int64\n"
          ]
        }
      ]
    },
    {
      "cell_type": "code",
      "source": [
        "#Q15  Define ndarrays in NumPy and explain their key features. How do they differ from standard Python lists?\n",
        "\n",
        "#In NumPy, an ndarray (short for \"N-dimensional array\") is a type of array that can store numbers in multiple dimensions (1D, 2D, etc.). It is the main data structure used in NumPy.\n",
        "\n",
        "#Key Features of ndarray:\n",
        "   #Fixed size: Once created, the size of an ndarray cannot be changed.\n",
        "   #Homogeneous: All elements in an ndarray must be of the same data type (e.g., all integers or all floats).\n",
        "   #Efficient memory usage: It uses less memory than Python lists because it stores data more efficiently.\n",
        "   #Supports multiple dimensions: Unlike Python lists, which are mostly 1D, ndarrays can be 1D, 2D, or higher (like a matrix or 3D array).\n",
        "   #Vectorized operations: You can perform operations on entire arrays at once without loops. This makes it faster and easier to work with large amounts of data.\n",
        "#Example:\n",
        "\n",
        "arr = np.array([1, 2, 3])  # 1D ndarray\n",
        "arr_2d = np.array([[1, 2], [3, 4]])  # 2D ndarray\n",
        "\n",
        "#How ndarray Differs from Python Lists:\n",
        "   #Speed: ndarrays are much faster for numerical operations compared to Python lists.\n",
        "   #Memory: ndarrays use less memory because they store data more efficiently.\n",
        "   #Operations: You can do mathematical operations directly on ndarrays (e.g., add, subtract, multiply), while with lists, you need to use loops.\n",
        "   #Data Type: ndarrays store elements with the same data type, but lists can have elements with different types (e.g., integers, strings)."
      ],
      "metadata": {
        "id": "XYsw8gIO3UVD"
      },
      "execution_count": 7,
      "outputs": []
    },
    {
      "cell_type": "code",
      "source": [
        "#Q16 . Analyze the performance benefits of NumPy arrays over Python lists for large-scale numerical operations.\n",
        "\n",
        "#NumPy arrays offer significant performance benefits over Python lists, especially when dealing with large-scale numerical operations. Here’s a simple explanation of why:\n",
        "\n",
        "#1. Speed:\n",
        "  #NumPy arrays are much faster than Python lists for numerical operations. This is because NumPy is implemented in C, which makes operations on arrays faster.\n",
        "  #Python lists are slower because they are more flexible (they can hold different data types) but lack optimization for numerical tasks.\n",
        "#Example:\n",
        "  #If you add two large arrays or lists element by element, NumPy performs the task much faster.\n",
        "\n",
        "#2. Memory Efficiency:\n",
        "   #NumPy arrays use less memory. This is because they store elements of the same type (like all integers or all floats) in a continuous block of memory.\n",
        "   #Python lists are less memory efficient because they store elements as separate objects, even if they are the same type.\n",
        "#3. Vectorized Operations:\n",
        "   #NumPy arrays support vectorized operations, meaning you can perform math on entire arrays without needing to write loops. This is both faster and easier to code.\n",
        "#Example: Adding two arrays in NumPy is done in one step: arr1 + arr2.\n",
        "   #Python lists require loops for such operations, which slows things down for large datasets.\n",
        "#Example: With lists, you'd have to use a for loop to add elements one by one."
      ],
      "metadata": {
        "id": "je3hR7iK4StD"
      },
      "execution_count": 8,
      "outputs": []
    },
    {
      "cell_type": "code",
      "source": [
        "#Q17 Compare vstack() and hstack() functions in NumPy. Provide examples demonstrating their usage and output.\n",
        "\n",
        "#In NumPy, vstack() and hstack() are used to stack arrays together, but they do so in different directions:\n",
        "\n",
        "#1. vstack() (Vertical Stack):\n",
        "  #Purpose: Stacks arrays vertically, one on top of the other, like rows.\n",
        "  #Usage: Use vstack() when you want to combine arrays along the vertical axis (like adding more rows to a table).\n",
        "\n",
        "arr1 = np.array([1, 2, 3])\n",
        "arr2 = np.array([4, 5, 6])\n",
        "\n",
        "result = np.vstack((arr1, arr2))\n",
        "print(result)\n"
      ],
      "metadata": {
        "colab": {
          "base_uri": "https://localhost:8080/"
        },
        "id": "Lk-KshW84yO0",
        "outputId": "f5155358-0fc9-4c59-cb53-84cef71f4ace"
      },
      "execution_count": 9,
      "outputs": [
        {
          "output_type": "stream",
          "name": "stdout",
          "text": [
            "[[1 2 3]\n",
            " [4 5 6]]\n"
          ]
        }
      ]
    },
    {
      "cell_type": "code",
      "source": [
        "#2. hstack() (Horizontal Stack):\n",
        "   #Purpose: Stacks arrays horizontally, side by side, like adding more columns.\n",
        "   #Usage: Use hstack() when you want to combine arrays along the horizontal axis (like adding more columns to a table).\n",
        "\n",
        "arr1 = np.array([1, 2, 3])\n",
        "arr2 = np.array([4, 5, 6])\n",
        "\n",
        "result = np.hstack((arr1, arr2))\n",
        "print(result)\n",
        "\n",
        "#Key Differences:\n",
        "#vstack(): Adds arrays vertically (in rows).\n",
        "#hstack(): Adds arrays horizontally (in columns)."
      ],
      "metadata": {
        "colab": {
          "base_uri": "https://localhost:8080/"
        },
        "id": "D6FoxbDr5Qof",
        "outputId": "eab2ad40-9947-4f13-ffac-c5996b2ae90b"
      },
      "execution_count": 10,
      "outputs": [
        {
          "output_type": "stream",
          "name": "stdout",
          "text": [
            "[1 2 3 4 5 6]\n"
          ]
        }
      ]
    },
    {
      "cell_type": "code",
      "source": [
        "#Q18   Explain the differences between fliplr() and flipud() methods in NumPy, including their effects on various array dimensions.\n",
        "\n",
        "#In NumPy, the fliplr() and flipud() methods are used to reverse the order of elements in arrays, but they do so in different directions. Here’s a simple explanation of both methods and their effects on different array dimensions:\n",
        "\n",
        "#1. fliplr() (Flip Left to Right):\n",
        "  #Purpose: This method flips the array in the left-to-right direction.\n",
        "  #Effect on 2D Arrays: It reverses the order of columns for each row.\n",
        "\n",
        "arr = np.array([[1, 2, 3],\n",
        "                [4, 5, 6],\n",
        "                [7, 8, 9]])\n",
        "\n",
        "result = np.fliplr(arr)\n",
        "print(result)\n"
      ],
      "metadata": {
        "colab": {
          "base_uri": "https://localhost:8080/"
        },
        "id": "Bvha79fs5fui",
        "outputId": "9b83a114-fe4d-48e5-9875-ff2952fd8872"
      },
      "execution_count": 11,
      "outputs": [
        {
          "output_type": "stream",
          "name": "stdout",
          "text": [
            "[[3 2 1]\n",
            " [6 5 4]\n",
            " [9 8 7]]\n"
          ]
        }
      ]
    },
    {
      "cell_type": "code",
      "source": [
        "#2. flipud() (Flip Up to Down):\n",
        "  #Purpose: This method flips the array in the up-to-down direction.\n",
        "  #Effect on 2D Arrays: It reverses the order of rows.\n",
        "\n",
        "result = np.flipud(arr)\n",
        "print(result)\n"
      ],
      "metadata": {
        "colab": {
          "base_uri": "https://localhost:8080/"
        },
        "id": "t2aLsdvC58KB",
        "outputId": "c2912522-1a34-42e1-a24f-2cd268a82109"
      },
      "execution_count": 12,
      "outputs": [
        {
          "output_type": "stream",
          "name": "stdout",
          "text": [
            "[[7 8 9]\n",
            " [4 5 6]\n",
            " [1 2 3]]\n"
          ]
        }
      ]
    },
    {
      "cell_type": "code",
      "source": [
        "#Effects on Different Array Dimensions:\n",
        "#1D Array:\n",
        "  #Both methods will behave the same because there's only one dimension to flip.\n",
        "#Example (1D Array):\n",
        "\n",
        "arr_1d = np.array([1, 2, 3, 4, 5])\n",
        "\n",
        "# Reversing a 1D array using slicing\n",
        "reversed_arr = arr_1d[::-1]\n",
        "\n",
        "print(reversed_arr)\n",
        "\n",
        "\n"
      ],
      "metadata": {
        "colab": {
          "base_uri": "https://localhost:8080/"
        },
        "id": "UslxJpwy6Kzp",
        "outputId": "f3a1860b-87e9-45a8-fca2-70c89364a0eb"
      },
      "execution_count": 15,
      "outputs": [
        {
          "output_type": "stream",
          "name": "stdout",
          "text": [
            "[5 4 3 2 1]\n"
          ]
        }
      ]
    },
    {
      "cell_type": "code",
      "source": [
        "#Q19  Discuss the functionality of the array_split() method in NumPy. How does it handle uneven splits?\n",
        "\n",
        "#The array_split() method in NumPy is used to divide an array into multiple sub-arrays. It allows you to split an array into sections along a specified axis.\n",
        "#Key Features of array_split():\n",
        "  #Flexible splitting: You can specify how many parts you want to split the array into.\n",
        "  #Handles uneven splits: If the array can't be split evenly, array_split() distributes the remaining elements among the sub-arrays as evenly as possible.\n",
        "\n",
        "#1. Splitting an Array into Equal Parts:\n",
        "\n",
        "arr = np.array([1, 2, 3, 4, 5, 6])\n",
        "\n",
        "# Split into 3 equal parts\n",
        "result = np.array_split(arr, 3)\n",
        "print(result)\n",
        "\n",
        "\n"
      ],
      "metadata": {
        "colab": {
          "base_uri": "https://localhost:8080/"
        },
        "id": "19rT_T5y6nVd",
        "outputId": "70261d84-75de-4aa1-abf3-a9eedf004cdf"
      },
      "execution_count": 16,
      "outputs": [
        {
          "output_type": "stream",
          "name": "stdout",
          "text": [
            "[array([1, 2]), array([3, 4]), array([5, 6])]\n"
          ]
        }
      ]
    },
    {
      "cell_type": "code",
      "source": [
        "#2. Handling Uneven Splits:\n",
        "\n",
        "arr = np.array([1, 2, 3, 4, 5, 6, 7])\n",
        "\n",
        "# Split into 3 parts\n",
        "result = np.array_split(arr, 3)\n",
        "print(result)\n"
      ],
      "metadata": {
        "colab": {
          "base_uri": "https://localhost:8080/"
        },
        "id": "Aes-vZqt7un1",
        "outputId": "c8387bd1-cbb8-4434-9c36-5ed6987710d2"
      },
      "execution_count": 17,
      "outputs": [
        {
          "output_type": "stream",
          "name": "stdout",
          "text": [
            "[array([1, 2, 3]), array([4, 5]), array([6, 7])]\n"
          ]
        }
      ]
    },
    {
      "cell_type": "code",
      "source": [
        "#Q20 . Explain the concepts of vectorization and broadcasting in NumPy. How do they contribute to efficient array operations?\n",
        "\n",
        "#In NumPy, vectorization and broadcasting are two key concepts that help improve the efficiency of array operations. Here’s a simple explanation of both:\n",
        "#1. Vectorization:\n",
        "  #Definition: Vectorization refers to the process of applying operations to entire arrays or large datasets at once, instead of using loops.\n",
        "  #How it works: Instead of iterating through each element in an array, NumPy performs operations on the whole array in a single step, which is optimized in the background (usually in C).\n",
        "\n",
        "arr = np.array([1, 2, 3, 4, 5])\n",
        "\n",
        "# Using vectorization to add 10 to each element\n",
        "result = arr + 10\n",
        "print(result)\n",
        "\n"
      ],
      "metadata": {
        "colab": {
          "base_uri": "https://localhost:8080/"
        },
        "id": "uklydc7P72OU",
        "outputId": "8fd182a2-a96b-47a3-f8b5-7618228f08f3"
      },
      "execution_count": 18,
      "outputs": [
        {
          "output_type": "stream",
          "name": "stdout",
          "text": [
            "[11 12 13 14 15]\n"
          ]
        }
      ]
    },
    {
      "cell_type": "code",
      "source": [
        "#2. Broadcasting:\n",
        "#Definition: Broadcasting is a technique that allows NumPy to perform operations on arrays of different shapes by \"stretching\" the smaller array across the larger array.\n",
        "#How it works: When performing operations, NumPy compares the shapes of the arrays involved. If the dimensions are compatible, it can automatically adjust the smaller array to match the shape of the larger one.\n",
        "\n",
        "arr1 = np.array([[1, 2, 3],\n",
        "                 [4, 5, 6]])\n",
        "\n",
        "arr2 = np.array([10, 20, 30])  # 1D array\n",
        "\n",
        "# Broadcasting arr2 across arr1\n",
        "result = arr1 + arr2\n",
        "print(result)\n"
      ],
      "metadata": {
        "colab": {
          "base_uri": "https://localhost:8080/"
        },
        "id": "I3PRD7Nb8dFi",
        "outputId": "535082f0-950a-4fa3-8a2c-39c4e93a6a05"
      },
      "execution_count": 19,
      "outputs": [
        {
          "output_type": "stream",
          "name": "stdout",
          "text": [
            "[[11 22 33]\n",
            " [14 25 36]]\n"
          ]
        }
      ]
    },
    {
      "cell_type": "code",
      "source": [
        "# Contribution to Efficient Array Operations:\n",
        "#Speed: Both vectorization and broadcasting reduce the need for explicit loops, making operations much faster. They utilize optimized C and Fortran libraries in the background.\n",
        "#Simplicity: They simplify code by allowing you to write more concise operations, which is easier to read and maintain.\n",
        "#Memory Efficiency: Broadcasting avoids the need to create large temporary arrays, which saves memory."
      ],
      "metadata": {
        "id": "5lMVK6ka9DQs"
      },
      "execution_count": 20,
      "outputs": []
    },
    {
      "cell_type": "code",
      "source": [],
      "metadata": {
        "id": "eGFa3ghW9RGI"
      },
      "execution_count": null,
      "outputs": []
    }
  ]
}